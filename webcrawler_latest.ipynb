{
 "cells": [
  {
   "cell_type": "code",
   "execution_count": 80,
   "id": "9db0526b-2107-45ff-8be0-c5ae8f3bbfeb",
   "metadata": {},
   "outputs": [],
   "source": [
    "import json\n",
    "import re\n",
    "\n",
    "# Function to clean the text\n",
    "def cleanse_text(text):\n",
    "    unwanted_sections = [\"references\"]\n",
    "    for section in unwanted_sections:\n",
    "        pattern = r'(?i)\\b{}\\b.*?(?=\\n\\n|\\Z)'.format(section)  # Case-insensitive section removal\n",
    "        text = re.sub(pattern, '', text, flags=re.DOTALL)\n",
    "\n",
    "    # Remove references to figures, tables, and page numbers\n",
    "    text = re.sub(r'Figure\\s*\\d+', '', text)  # Remove \"Figure X\" references\n",
    "    text = re.sub(r'Page\\s*\\d+\\s*(of\\s*\\d+)?', '', text)  # Remove \"Page X of Y\" references\n",
    "    text = re.sub(r'Table\\s*\\d+', '', text)  # Remove \"Table X\" references\n",
    "    \n",
    "    # You can add additional patterns to remove any other sections you don't want\n",
    "    text = re.sub(r'Gates Open Research\\s*\\d{4},.*?Last updated:.*?\\n', '', text)  # Remove repeated journal info\n",
    "    text = re.sub(r'\\s+', ' ', text)  # Replace multiple spaces/newlines with a single space\n",
    "    text = re.sub(r'[^\\x00-\\x7F]+', ' ', text)  # Remove non-ASCII characters\n",
    "    text = remove_leading_zeros(text)\n",
    "    text = text.strip()\n",
    "    text = re.sub(r'\\. \\.', '.', text)  # Fix any erroneous spaces between periods\n",
    "\n",
    "    # Ensure paragraphs are maintained\n",
    "    text = re.sub(r'\\n\\s*\\n', '\\n\\n', text)  # Ensure paragraph breaks are preserved\n",
    "\n",
    "    return text\n",
    "\n",
    "\n",
    "# Function to remove leading zeros from numbers\n",
    "def remove_leading_zeros(text):\n",
    "    pattern = r'\\b0+(\\d+(\\.\\d+)?)\\b'\n",
    "    result = re.sub(pattern, r'\\1', text)\n",
    "    return result"
   ]
  },
  {
   "cell_type": "code",
   "execution_count": 81,
   "id": "8d6f5434-16e5-4394-a232-6f3f06b595b6",
   "metadata": {},
   "outputs": [],
   "source": [
    "# Function to fix encoding issues\n",
    "def fix_encoding_issues(text):\n",
    "    try:\n",
    "        text = text.encode('latin1').decode('utf-8')\n",
    "    except UnicodeEncodeError:\n",
    "        pass  # If encoding fails, just return the original text\n",
    "    return text"
   ]
  },
  {
   "cell_type": "code",
   "execution_count": 82,
   "id": "82955614-df9a-4c87-b272-6c3d82c65289",
   "metadata": {},
   "outputs": [],
   "source": [
    "# Function to extract the title if it's the first sentence before author names\n",
    "\n",
    "def extract_title(text):\n",
    "    # This regex will capture all text before the \"[version\" part\n",
    "    title_match = re.search(r'^(.+?)\\s*\\[version.*$', text, re.DOTALL)\n",
    "    if title_match:\n",
    "        return title_match.group(1).strip()\n",
    "    return None\n",
    "\n",
    "\n",
    "# Function to extract DOI\n",
    "def extract_doi(text):\n",
    "    # Fix encoding issues\n",
    "    text = fix_encoding_issues(text)\n",
    "    \n",
    "    # Regex pattern to match a DOI\n",
    "    match = re.search(r'10\\.\\d{4,9}/[-._;()/:A-Z0-9]+', text, re.IGNORECASE)\n",
    "    \n",
    "    if match:\n",
    "        doi = match.group(0).strip()\n",
    "        \n",
    "        # Clean up any trailing or leading non-DOI characters\n",
    "        doi = re.sub(r'[^a-zA-Z0-9./:-]+$', '', doi)\n",
    "        \n",
    "        return doi\n",
    "    else:\n",
    "        return \"\"\n",
    "\n",
    "# Function to extract authors\n",
    "def extract_authors(text):\n",
    "    text = fix_encoding_issues(text)\n",
    "    # This regex looks for a list of names separated by commas\n",
    "    match = re.search(r'(?m)^\\s*[A-Z][a-z]+(?: [A-Z]\\.)?(?:, [A-Z][a-z]+(?: [A-Z]\\.)?)*', text)\n",
    "    return match.group(0).strip() if match else \"\"\n",
    "\n",
    "# Function to extract FullTextURL\n",
    "def extract_fulltexturl(text):\n",
    "    text = fix_encoding_issues(text)  # Fix any encoding issues first\n",
    "    \n",
    "    # Use regex to search for a line that contains 'FulltextUrl:' followed by a valid URL\n",
    "    match = re.search(r'https?://[^\\s]+', text)\n",
    "    \n",
    "    if match:\n",
    "        url = match.group(0).strip()\n",
    "        \n",
    "        # Remove any trailing non-URL characters (e.g., 'List')\n",
    "        url = re.sub(r'[^\\w:/?=&.-]+$', '', url)  # Remove trailing non-URL characters\n",
    "        \n",
    "        return url\n",
    "    else:\n",
    "        return \"\""
   ]
  },
  {
   "cell_type": "code",
   "execution_count": 83,
   "id": "96a106fa-83e9-42ec-9822-bfda296abc3c",
   "metadata": {},
   "outputs": [
    {
     "name": "stdout",
     "output_type": "stream",
     "text": [
      "Title: SOFTWARE TOOL ARTICLE\n",
      "Point-of-contact Interactive Record Linkage (PIRL): A\n",
      "software tool to prospectively link demographic surveillance\n",
      "and health facility data\n",
      "DOI: 10.12688/gatesopenres.12751.1\n",
      "FullTextURL: https://doi.org/10.12688/gatesopenres.12751.1\n",
      "\n",
      "FullTextContent (first 1000 characters):\n",
      " SOFTWARE TOOL ARTICLE Point-of-contact Interactive Record Linkage (PIRL): A software tool to prospectively link demographic surveillance and health facility data [version 2; peer review: 2 approved] Christopher T. Rentsch 1, Chodziwadziwa Whiteson Kabudula2, Jason Catlett3, David Beckles 4, Richard Machemba5, Baltazar Mtenga5, Nkosinathi Masilela2, Denna Michael5, Redempta Natalis6, Mark Urassa5, Jim Todd1,5, Basia Zaba 1, Georges Reniers1,2 1Department of Population Health, London School of Hygiene & Tropical Medicine, London, WC1E 7HT, UK 2MRC/Wits Rural Public Health and Health Transitions Research Unit (Agincourt), School of Public Health, Faculty of Health Sciences, University of the Witwatersrand, Johannesburg , 2193, South Africa 3SELECT Star, Atlanta, GA, 30309, USA 4Independent Researcher, London, UK 5The Tazama Project, National Institute for Medical Research, Mwanza, Tanzania 6District Medical Officer, Ministry of Health Tanzania, Magu District, Tanzania First published: 6 Nov 2017, 1:8 https://doi.org/10.12688/gatesopenres.12751.1 Latest published: 11 Jan 2018, 1:8 https://doi.org/10.12688/gatesopenres.12751.2 v2 Abstract Linking a health and demographic surveillance system (HDSS) to data from a health facility that serves the HDSS population generates a research infrastructure for directly observed data on access to and utilization of health facility services. Many HDSS sites, however, are in areas that lack unique national identifiers or suffer from data quality issues, such as incomplete records, spelling errors, and name and residence changes, all of which complicate record linkage approaches when applied retrospectively. We developed Point-of-contact Interactive Record Linkage (PIRL) software that is used to prospectively link health records from a local health facility to an HDSS in rural Tanzania. This prospective approach to record linkage is carried out in the presence of the individual whose records are being linked, which has the advantage that any uncertainty surrounding their identity can be resolved during a brief interaction, whereby extraneous information (e.g., household membership) can be referred to as an additional criterion to adjudicate between multiple potential matches. Our software uses a probabilistic record linkage algorithm based on the Fellegi-Sunter model to search and rank potential matches in the HDSS data source. Key advantages of this software are its ability to perform multiple searches for the same individual and save patient-specific notes that are retrieved during subsequent clinic visits. A search on the HDSS database (n=110,0) takes less than 15 Open Peer Review Approval Status 1 2 version 2 (revision) 11 Jan 2018 version 1 6 Nov 2017 view view Duncan Smith , University of Manchester, Manchester, UK 1. Hye-Chung Kum, Texas A & M University, College Station, USA Texas A & M University, College Station, USA 2. Any reports and responses or comments on the article can be found at the end of the article. Gates Open Research Corresponding author: Christopher T. Rentsch (christopher.rentsch@lshtm.ac.uk) Author roles: Rentsch CT: Conceptualization, Data Curation, Funding Acquisition, Investigation, Methodology, Project Administration, Resources, Software, Supervision, Validation, Visualization, Writing   Original Draft Preparation, Writing   Review & Editing; Kabudula CW: Conceptualization, Data Curation, Methodology, Resources, Software, Supervision, Validation, Writing   Original Draft Preparation, Writing   Review & Editing; Catlett J: Data Curation, Methodology, Resources, Software, Supervision, Writing   Original Draft Preparation, Writing   Review & Editing; Beckles D: Conceptualization, Data Curation, Methodology, Resources, Software, Supervision, Writing   Original Draft Preparation, Writing   Review & Editing; Machemba R: Investigation, Methodology, Project Administration, Resources, Software, Supervision, Writing   Review & Editing; Mtenga B: Data Curation, Investigation, Methodology, Project Administration, Resources, Software, Supervision, Writing   Review & Editing; Masilela N: Conceptualization, Data Curation, Methodology, Resources, Software, Writing   Review & Editing; Michael D: Investigation, Project Administration, Resources, Supervision, Writing   Review & Editing; Natalis R: Investigation, Project Administration, Resources, Supervision, Writing   Review & Editing; Urassa M: Conceptualization, Data Curation, Funding Acquisition, Investigation, Methodology, Project Administration, Resources, Software, Supervision, Validation, Visualization, Writing   Review & Editing; Todd J: Conceptualization, Data Curation, Funding Acquisition, Investigation, Methodology, Project Administration, Resources, Software, Supervision, Validation, Visualization, Writing   Review & Editing; Zaba B: Conceptualization, Data Curation, Funding Acquisition, Investigation, Methodology, Project Administration, Resources, Software, Supervision, Validation, Visualization, Writing   Original Draft Preparation, Writing   Review & Editing; Reniers G: Conceptualization, Data Curation, Funding Acquisition, Investigation, Methodology, Project Administration, Resources, Software, Supervision, Validation, Visualization, Writing   Original Draft Preparation, Writing   Review & Editing Competing interests: No competing interests were disclosed. Grant information: Bill & Melinda Gates Foundation grants to the ALPHA Network [BMGF-OPP1082114] and the MeSH Consortium [BMGF-OPP1120138]. The Kisesa HDSS is a member of the INDEPTH Network and has received funding from the Global Fund [TNZ-405- GO4-H, TNZ-911-G14-S]. The funders had no role in study design, data collection and analysis, decision to publish, or preparation of the manuscript. Copyright:   2018 Rentsch CT et al. This is an open access article distributed under the terms of the Creative Commons Attribution License, which permits unrestricted use, distribution, and reproduction in any medium, provided the original work is properly cited. How to cite this article: Rentsch CT, Kabudula CW, Catlett J et al. Point-of-contact Interactive Record Linkage (PIRL): A software tool to prospectively link demographic surveillance and health facility data [version 2; peer review: 2 approved] Gates Open Research 2018, 1:8 https://doi.org/10.12688/gatesopenres.12751.2 First published: 6 Nov 2017, 1:8 https://doi.org/10.12688/gatesopenres.12751.1 seconds to complete. Excluding time spent obtaining written consent, the median duration of time we spend with each patient is six minutes. In this setting, a purely automated retrospective approach to record linkage would have only correctly identified about half of the true matches and resulted in high linkage errors; therefore highlighting immediate benefit of conducting interactive record linkage using the PIRL software. Keywords data linkage, interactive record linkage, health and demographic surveillance systems, health facility, sub-Saharan Africa Gates Open Research Introduction The amount of collected data is ever-increasing in various sectors, including healthcare and government administration. While each individual data source holds value and was likely created for a specific purpose, researchers could study more complex relationships by combining data sources holding information on the same entity or individual. A recent Wellcome Trust report detailed how record linkage   the matching of an individual s records between two or more data sources   adds to the value of medical research in low- and middle-income as well as high-income countries1. Broadly, record linkage can increase the range of questions that could be asked, provide a historical perspective necessary for some studies, improve the statistical properties of analyses, and make better use of resources. The statistical framework for record linkage was largely developed in the 1950s2 and 1960s3. Two popular methods of record linkage have been used to combine data sources. Deterministic record linkage4 is a rule-based approach that typically requires exact matching on a set of identifiers existing in all data sources. Probabilistic methods5 7 can be employed to assign weights based on the (dis)similarity of identifiers (e.g., name, sex, and date of birth) between records. In the United Kingdom, researchers use record linkage to merge the Clinical Practice Research Datalink   one of the largest databases of longitudinal medical records from primary care in the world   to a variety of other existing data sources that hold data on cardiovascular and cancer events, hospitalisation, and mortality8. Publications using this data infrastructure cover a vast range of topics, including studies showing the absence of an association between measles, mumps, and rubella (MMR) vaccine and autism9, cardiovascular risk after acute infection10, and the association between body mass index and cancer11. Located in several low- and middle-income countries, health and demographic surveillance systems (HDSS) are effective and comprehensive data collection systems that primarily measure the fertility, mortality, and other self-reported health information of an entire population. However, such self-reports usually lack detail and accuracy about the clinical events and services received, and their retrospective nature means they quickly become dated. Linking an HDSS database to data from a health facility that serves the HDSS population produces a research infrastructure for generating directly observed data on access to and utilization of health facility services12. Many HDSS sites, contrary to record linkage studies conducted in high-income countries, are in areas that lack unique national identifiers or suffer from data quality issues, such as incomplete records, spelling errors, and name and residence changes, all of which complicate both deterministic and probabilistic approaches when applied retrospectively. In these settings, a semi-automatic record linkage p\n"
     ]
    }
   ],
   "source": [
    "# Load the JSON file\n",
    "with open('10.12688_gatesopenres.12751.2.json', 'r', encoding='utf-8') as file:\n",
    "    data = json.load(file)\n",
    "\n",
    "# Extract all text content\n",
    "content = \" \".join([page.get(\"TextContent\", \"\") for page in data.get(\"Content\", [])])\n",
    "\n",
    "# Extract the required fields using the provided functions\n",
    "title = extract_title(content)\n",
    "doi = extract_doi(content)\n",
    "full_text_url = extract_fulltexturl(content)\n",
    "cleaned_content = cleanse_text(content)\n",
    "\n",
    "# Display the extracted information\n",
    "extracted_data = {\n",
    "    \"Title\": title,\n",
    "    \"DOI\": doi,\n",
    "    \"FullTextURL\": full_text_url,\n",
    "    \"FullTextContent\": cleaned_content\n",
    "}\n",
    "\n",
    "# Printing the results\n",
    "print(\"Title:\", extracted_data[\"Title\"])\n",
    "print(\"DOI:\", extracted_data[\"DOI\"])\n",
    "print(\"FullTextURL:\", extracted_data[\"FullTextURL\"])\n",
    "print(\"\\nFullTextContent (first 1000 characters):\\n\", extracted_data[\"FullTextContent\"][:10000])\n"
   ]
  },
  {
   "cell_type": "code",
   "execution_count": 84,
   "id": "afbe17dd-956b-4d1c-88ac-26b3629ee6b8",
   "metadata": {},
   "outputs": [
    {
     "name": "stdout",
     "output_type": "stream",
     "text": [
      "PDF saved successfully to: extracted_data.pdf\n"
     ]
    }
   ],
   "source": [
    "# Save the extracted data into a PDF\n",
    "\n",
    "from fpdf import FPDF\n",
    "pdf = FPDF()\n",
    "pdf.set_auto_page_break(auto=True, margin=15)\n",
    "pdf.add_page()\n",
    "pdf.set_font(\"Arial\", 'B', 16)\n",
    "pdf.multi_cell(0, 10, extracted_data[\"Title\"], align='C')\n",
    "\n",
    "pdf.set_font(\"Arial\", 'B', 12)\n",
    "pdf.cell(0, 10, f\"DOI: {extracted_data['DOI']}\", ln=True)\n",
    "pdf.cell(0, 10, f\"FullTextURL: {extracted_data['FullTextURL']}\", ln=True)\n",
    "\n",
    "pdf.set_font(\"Arial\", '', 12)\n",
    "pdf.multi_cell(0, 10, extracted_data[\"FullTextContent\"])\n",
    "\n",
    "# Save the PDF file\n",
    "pdf_file_path = \"extracted_data.pdf\"\n",
    "pdf.output(pdf_file_path)\n",
    "print(f\"PDF saved successfully to: {pdf_file_path}\")"
   ]
  },
  {
   "cell_type": "code",
   "execution_count": null,
   "id": "50d84576-f459-4415-93f1-172efa83e4b9",
   "metadata": {},
   "outputs": [],
   "source": []
  },
  {
   "cell_type": "code",
   "execution_count": null,
   "id": "33ac964d-ddc4-4cb1-9705-1ba5602be420",
   "metadata": {},
   "outputs": [],
   "source": []
  }
 ],
 "metadata": {
  "kernelspec": {
   "display_name": "Python 3 (ipykernel)",
   "language": "python",
   "name": "python3"
  },
  "language_info": {
   "codemirror_mode": {
    "name": "ipython",
    "version": 3
   },
   "file_extension": ".py",
   "mimetype": "text/x-python",
   "name": "python",
   "nbconvert_exporter": "python",
   "pygments_lexer": "ipython3",
   "version": "3.10.14"
  }
 },
 "nbformat": 4,
 "nbformat_minor": 5
}
